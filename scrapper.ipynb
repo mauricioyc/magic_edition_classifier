{
 "cells": [
  {
   "cell_type": "markdown",
   "metadata": {},
   "source": [
    "# Magic Card Image Database\n",
    "\n",
    "Since I could not find a ready to use magic database, I extracted the images from scryfall.com for the following sets with the respective promos: \n",
    "- Guilds of Ravinica\n",
    "- Core Set 2019\n",
    "- Dominaria\n",
    "- Ixalan\n",
    "- Rivals of Ixalan\n",
    "\n",
    "The objective here is to create a card image database to be used on a CNN to identify the set with machine learning. Considering the limited number of cards per set and the small gain from more traditional computer vision algorithms, this tutorial is a more fun exploration of CNNs and their capacity."
   ]
  },
  {
   "cell_type": "code",
   "execution_count": 1,
   "metadata": {},
   "outputs": [],
   "source": [
    "import urllib.request\n",
    "import json\n",
    "import pandas as pd\n",
    "from tqdm import tqdm\n",
    "%matplotlib inline\n",
    "tqdm.pandas()\n",
    "\n",
    "def get_uri(serie, dtype='normal'):\n",
    "    try:\n",
    "        uri = serie['image_uris'][dtype]\n",
    "    except:\n",
    "        pass\n",
    "    return(uri) \n",
    "def get_legality(serie):\n",
    "    return(serie['legalities']['standard'])"
   ]
  },
  {
   "cell_type": "code",
   "execution_count": 2,
   "metadata": {},
   "outputs": [
    {
     "data": {
      "text/html": [
       "<div>\n",
       "<style>\n",
       "    .dataframe thead tr:only-child th {\n",
       "        text-align: right;\n",
       "    }\n",
       "\n",
       "    .dataframe thead th {\n",
       "        text-align: left;\n",
       "    }\n",
       "\n",
       "    .dataframe tbody tr th {\n",
       "        vertical-align: top;\n",
       "    }\n",
       "</style>\n",
       "<table border=\"1\" class=\"dataframe\">\n",
       "  <thead>\n",
       "    <tr style=\"text-align: right;\">\n",
       "      <th></th>\n",
       "      <th>all_parts</th>\n",
       "      <th>arena_id</th>\n",
       "      <th>artist</th>\n",
       "      <th>border_color</th>\n",
       "      <th>card_faces</th>\n",
       "      <th>cmc</th>\n",
       "      <th>collector_number</th>\n",
       "      <th>color_identity</th>\n",
       "      <th>color_indicator</th>\n",
       "      <th>colors</th>\n",
       "      <th>...</th>\n",
       "      <th>set</th>\n",
       "      <th>set_name</th>\n",
       "      <th>set_search_uri</th>\n",
       "      <th>set_uri</th>\n",
       "      <th>story_spotlight</th>\n",
       "      <th>tcgplayer_id</th>\n",
       "      <th>toughness</th>\n",
       "      <th>type_line</th>\n",
       "      <th>uri</th>\n",
       "      <th>watermark</th>\n",
       "    </tr>\n",
       "  </thead>\n",
       "  <tbody>\n",
       "    <tr>\n",
       "      <th>233237</th>\n",
       "      <td>NaN</td>\n",
       "      <td>NaN</td>\n",
       "      <td>Dan Frazier</td>\n",
       "      <td>black</td>\n",
       "      <td>NaN</td>\n",
       "      <td>1.0</td>\n",
       "      <td>5</td>\n",
       "      <td>[W]</td>\n",
       "      <td>NaN</td>\n",
       "      <td>[W]</td>\n",
       "      <td>...</td>\n",
       "      <td>lea</td>\n",
       "      <td>Limited Edition Alpha</td>\n",
       "      <td>https://api.scryfall.com/cards/search?order=se...</td>\n",
       "      <td>https://api.scryfall.com/sets/288bd996-960e-44...</td>\n",
       "      <td>False</td>\n",
       "      <td>1044.0</td>\n",
       "      <td>NaN</td>\n",
       "      <td>Enchantment â€” Aura</td>\n",
       "      <td>https://api.scryfall.com/cards/15967a39-303f-4...</td>\n",
       "      <td>NaN</td>\n",
       "    </tr>\n",
       "    <tr>\n",
       "      <th>233238</th>\n",
       "      <td>NaN</td>\n",
       "      <td>NaN</td>\n",
       "      <td>Douglas Shuler</td>\n",
       "      <td>black</td>\n",
       "      <td>NaN</td>\n",
       "      <td>1.0</td>\n",
       "      <td>4</td>\n",
       "      <td>[W]</td>\n",
       "      <td>NaN</td>\n",
       "      <td>[W]</td>\n",
       "      <td>...</td>\n",
       "      <td>lea</td>\n",
       "      <td>Limited Edition Alpha</td>\n",
       "      <td>https://api.scryfall.com/cards/search?order=se...</td>\n",
       "      <td>https://api.scryfall.com/sets/288bd996-960e-44...</td>\n",
       "      <td>False</td>\n",
       "      <td>1038.0</td>\n",
       "      <td>1</td>\n",
       "      <td>Creature â€” Human Soldier</td>\n",
       "      <td>https://api.scryfall.com/cards/11600105-56c6-4...</td>\n",
       "      <td>NaN</td>\n",
       "    </tr>\n",
       "    <tr>\n",
       "      <th>233239</th>\n",
       "      <td>NaN</td>\n",
       "      <td>NaN</td>\n",
       "      <td>Mark Poole</td>\n",
       "      <td>black</td>\n",
       "      <td>NaN</td>\n",
       "      <td>2.0</td>\n",
       "      <td>3</td>\n",
       "      <td>[W]</td>\n",
       "      <td>NaN</td>\n",
       "      <td>[W]</td>\n",
       "      <td>...</td>\n",
       "      <td>lea</td>\n",
       "      <td>Limited Edition Alpha</td>\n",
       "      <td>https://api.scryfall.com/cards/search?order=se...</td>\n",
       "      <td>https://api.scryfall.com/sets/288bd996-960e-44...</td>\n",
       "      <td>False</td>\n",
       "      <td>1035.0</td>\n",
       "      <td>NaN</td>\n",
       "      <td>Sorcery</td>\n",
       "      <td>https://api.scryfall.com/cards/6f9ea46a-411f-4...</td>\n",
       "      <td>NaN</td>\n",
       "    </tr>\n",
       "    <tr>\n",
       "      <th>233240</th>\n",
       "      <td>NaN</td>\n",
       "      <td>NaN</td>\n",
       "      <td>Jesper Myrfors</td>\n",
       "      <td>black</td>\n",
       "      <td>NaN</td>\n",
       "      <td>4.0</td>\n",
       "      <td>2</td>\n",
       "      <td>[W]</td>\n",
       "      <td>NaN</td>\n",
       "      <td>[W]</td>\n",
       "      <td>...</td>\n",
       "      <td>lea</td>\n",
       "      <td>Limited Edition Alpha</td>\n",
       "      <td>https://api.scryfall.com/cards/search?order=se...</td>\n",
       "      <td>https://api.scryfall.com/sets/288bd996-960e-44...</td>\n",
       "      <td>False</td>\n",
       "      <td>1031.0</td>\n",
       "      <td>NaN</td>\n",
       "      <td>Sorcery</td>\n",
       "      <td>https://api.scryfall.com/cards/5b6ddce7-b9c5-4...</td>\n",
       "      <td>NaN</td>\n",
       "    </tr>\n",
       "    <tr>\n",
       "      <th>233241</th>\n",
       "      <td>NaN</td>\n",
       "      <td>NaN</td>\n",
       "      <td>Dan Frazier</td>\n",
       "      <td>black</td>\n",
       "      <td>NaN</td>\n",
       "      <td>1.0</td>\n",
       "      <td>1</td>\n",
       "      <td>[W]</td>\n",
       "      <td>NaN</td>\n",
       "      <td>[W]</td>\n",
       "      <td>...</td>\n",
       "      <td>lea</td>\n",
       "      <td>Limited Edition Alpha</td>\n",
       "      <td>https://api.scryfall.com/cards/search?order=se...</td>\n",
       "      <td>https://api.scryfall.com/sets/288bd996-960e-44...</td>\n",
       "      <td>False</td>\n",
       "      <td>1029.0</td>\n",
       "      <td>NaN</td>\n",
       "      <td>Enchantment â€” Aura</td>\n",
       "      <td>https://api.scryfall.com/cards/d5c83259-9b90-4...</td>\n",
       "      <td>NaN</td>\n",
       "    </tr>\n",
       "  </tbody>\n",
       "</table>\n",
       "<p>5 rows × 62 columns</p>\n",
       "</div>"
      ],
      "text/plain": [
       "       all_parts  arena_id          artist border_color card_faces  cmc  \\\n",
       "233237       NaN       NaN     Dan Frazier        black        NaN  1.0   \n",
       "233238       NaN       NaN  Douglas Shuler        black        NaN  1.0   \n",
       "233239       NaN       NaN      Mark Poole        black        NaN  2.0   \n",
       "233240       NaN       NaN  Jesper Myrfors        black        NaN  4.0   \n",
       "233241       NaN       NaN     Dan Frazier        black        NaN  1.0   \n",
       "\n",
       "       collector_number color_identity color_indicator colors    ...      set  \\\n",
       "233237                5            [W]             NaN    [W]    ...      lea   \n",
       "233238                4            [W]             NaN    [W]    ...      lea   \n",
       "233239                3            [W]             NaN    [W]    ...      lea   \n",
       "233240                2            [W]             NaN    [W]    ...      lea   \n",
       "233241                1            [W]             NaN    [W]    ...      lea   \n",
       "\n",
       "                     set_name  \\\n",
       "233237  Limited Edition Alpha   \n",
       "233238  Limited Edition Alpha   \n",
       "233239  Limited Edition Alpha   \n",
       "233240  Limited Edition Alpha   \n",
       "233241  Limited Edition Alpha   \n",
       "\n",
       "                                           set_search_uri  \\\n",
       "233237  https://api.scryfall.com/cards/search?order=se...   \n",
       "233238  https://api.scryfall.com/cards/search?order=se...   \n",
       "233239  https://api.scryfall.com/cards/search?order=se...   \n",
       "233240  https://api.scryfall.com/cards/search?order=se...   \n",
       "233241  https://api.scryfall.com/cards/search?order=se...   \n",
       "\n",
       "                                                  set_uri story_spotlight  \\\n",
       "233237  https://api.scryfall.com/sets/288bd996-960e-44...           False   \n",
       "233238  https://api.scryfall.com/sets/288bd996-960e-44...           False   \n",
       "233239  https://api.scryfall.com/sets/288bd996-960e-44...           False   \n",
       "233240  https://api.scryfall.com/sets/288bd996-960e-44...           False   \n",
       "233241  https://api.scryfall.com/sets/288bd996-960e-44...           False   \n",
       "\n",
       "       tcgplayer_id  toughness                   type_line  \\\n",
       "233237       1044.0        NaN        Enchantment â€” Aura   \n",
       "233238       1038.0          1  Creature â€” Human Soldier   \n",
       "233239       1035.0        NaN                     Sorcery   \n",
       "233240       1031.0        NaN                     Sorcery   \n",
       "233241       1029.0        NaN        Enchantment â€” Aura   \n",
       "\n",
       "                                                      uri  watermark  \n",
       "233237  https://api.scryfall.com/cards/15967a39-303f-4...        NaN  \n",
       "233238  https://api.scryfall.com/cards/11600105-56c6-4...        NaN  \n",
       "233239  https://api.scryfall.com/cards/6f9ea46a-411f-4...        NaN  \n",
       "233240  https://api.scryfall.com/cards/5b6ddce7-b9c5-4...        NaN  \n",
       "233241  https://api.scryfall.com/cards/d5c83259-9b90-4...        NaN  \n",
       "\n",
       "[5 rows x 62 columns]"
      ]
     },
     "execution_count": 2,
     "metadata": {},
     "output_type": "execute_result"
    }
   ],
   "source": [
    "# download from https://archive.scryfall.com/json/scryfall-all-cards.json\n",
    "df = pd.read_json('scryfall-all-cards.json')\n",
    "\n",
    "df.tail()"
   ]
  },
  {
   "cell_type": "code",
   "execution_count": 3,
   "metadata": {},
   "outputs": [
    {
     "name": "stderr",
     "output_type": "stream",
     "text": [
      "100%|███████████████████████████████████████████████████████████████████████| 233242/233242 [00:13<00:00, 17537.96it/s]\n"
     ]
    }
   ],
   "source": [
    "df['is_standard'] = df.progress_apply(get_legality, axis=1)"
   ]
  },
  {
   "cell_type": "code",
   "execution_count": 4,
   "metadata": {},
   "outputs": [],
   "source": [
    "df = df[df['image_uris'].isnull() == False]\n",
    "df = df[(df['lang'].str.contains('en')) | df['lang'].str.contains('pt')]"
   ]
  },
  {
   "cell_type": "code",
   "execution_count": 5,
   "metadata": {},
   "outputs": [
    {
     "name": "stderr",
     "output_type": "stream",
     "text": [
      "100%|█████████████████████████████████████████████████████████████████████████| 65720/65720 [00:03<00:00, 17708.60it/s]\n"
     ]
    }
   ],
   "source": [
    "card_img_link = df.progress_apply(get_uri, axis=1)"
   ]
  },
  {
   "cell_type": "code",
   "execution_count": 6,
   "metadata": {},
   "outputs": [],
   "source": [
    "card_base = pd.DataFrame()\n",
    "card_base['img_link'] = card_img_link\n",
    "card_base['set'] = df['set']\n",
    "card_base['set_name'] = df['set_name']\n",
    "card_base['lang'] = df['lang']\n",
    "card_base['is_standard'] = df['is_standard']\n",
    "card_base['id'] = df['id']\n",
    "card_base['name'] = df['name']\n",
    "# english only\n",
    "card_base = card_base[(card_base['lang'].str.contains('en'))]\n",
    "card_base = card_base[(card_base['is_standard'] == 'legal')]"
   ]
  },
  {
   "cell_type": "code",
   "execution_count": 7,
   "metadata": {},
   "outputs": [
    {
     "data": {
      "text/html": [
       "<div>\n",
       "<style>\n",
       "    .dataframe thead tr:only-child th {\n",
       "        text-align: right;\n",
       "    }\n",
       "\n",
       "    .dataframe thead th {\n",
       "        text-align: left;\n",
       "    }\n",
       "\n",
       "    .dataframe tbody tr th {\n",
       "        vertical-align: top;\n",
       "    }\n",
       "</style>\n",
       "<table border=\"1\" class=\"dataframe\">\n",
       "  <thead>\n",
       "    <tr style=\"text-align: right;\">\n",
       "      <th></th>\n",
       "      <th>img_link</th>\n",
       "      <th>set</th>\n",
       "      <th>set_name</th>\n",
       "      <th>lang</th>\n",
       "      <th>is_standard</th>\n",
       "      <th>id</th>\n",
       "      <th>name</th>\n",
       "    </tr>\n",
       "  </thead>\n",
       "  <tbody>\n",
       "    <tr>\n",
       "      <th>0</th>\n",
       "      <td>https://img.scryfall.com/cards/normal/front/a/...</td>\n",
       "      <td>prw2</td>\n",
       "      <td>RNA Ravnica Weekend</td>\n",
       "      <td>en</td>\n",
       "      <td>legal</td>\n",
       "      <td>ac709474-7790-483f-9ed5-ea7abccfce53</td>\n",
       "      <td>Island</td>\n",
       "    </tr>\n",
       "    <tr>\n",
       "      <th>1</th>\n",
       "      <td>https://img.scryfall.com/cards/normal/front/b/...</td>\n",
       "      <td>prw2</td>\n",
       "      <td>RNA Ravnica Weekend</td>\n",
       "      <td>en</td>\n",
       "      <td>legal</td>\n",
       "      <td>b79ec1ab-99ac-4552-891e-839067f606fc</td>\n",
       "      <td>Forest</td>\n",
       "    </tr>\n",
       "    <tr>\n",
       "      <th>2</th>\n",
       "      <td>https://img.scryfall.com/cards/normal/front/a/...</td>\n",
       "      <td>prw2</td>\n",
       "      <td>RNA Ravnica Weekend</td>\n",
       "      <td>en</td>\n",
       "      <td>legal</td>\n",
       "      <td>abe92f9f-635a-4c76-95cc-163715553057</td>\n",
       "      <td>Forest</td>\n",
       "    </tr>\n",
       "    <tr>\n",
       "      <th>3</th>\n",
       "      <td>https://img.scryfall.com/cards/normal/front/8/...</td>\n",
       "      <td>prw2</td>\n",
       "      <td>RNA Ravnica Weekend</td>\n",
       "      <td>en</td>\n",
       "      <td>legal</td>\n",
       "      <td>8b95a588-8dd1-49f7-92d8-34e2237769f2</td>\n",
       "      <td>Mountain</td>\n",
       "    </tr>\n",
       "    <tr>\n",
       "      <th>4</th>\n",
       "      <td>https://img.scryfall.com/cards/normal/front/2/...</td>\n",
       "      <td>prw2</td>\n",
       "      <td>RNA Ravnica Weekend</td>\n",
       "      <td>en</td>\n",
       "      <td>legal</td>\n",
       "      <td>280cbdd4-57e1-49a0-a9b0-60b2d9fb9ac9</td>\n",
       "      <td>Mountain</td>\n",
       "    </tr>\n",
       "  </tbody>\n",
       "</table>\n",
       "</div>"
      ],
      "text/plain": [
       "                                            img_link   set  \\\n",
       "0  https://img.scryfall.com/cards/normal/front/a/...  prw2   \n",
       "1  https://img.scryfall.com/cards/normal/front/b/...  prw2   \n",
       "2  https://img.scryfall.com/cards/normal/front/a/...  prw2   \n",
       "3  https://img.scryfall.com/cards/normal/front/8/...  prw2   \n",
       "4  https://img.scryfall.com/cards/normal/front/2/...  prw2   \n",
       "\n",
       "              set_name lang is_standard                                    id  \\\n",
       "0  RNA Ravnica Weekend   en       legal  ac709474-7790-483f-9ed5-ea7abccfce53   \n",
       "1  RNA Ravnica Weekend   en       legal  b79ec1ab-99ac-4552-891e-839067f606fc   \n",
       "2  RNA Ravnica Weekend   en       legal  abe92f9f-635a-4c76-95cc-163715553057   \n",
       "3  RNA Ravnica Weekend   en       legal  8b95a588-8dd1-49f7-92d8-34e2237769f2   \n",
       "4  RNA Ravnica Weekend   en       legal  280cbdd4-57e1-49a0-a9b0-60b2d9fb9ac9   \n",
       "\n",
       "       name  \n",
       "0    Island  \n",
       "1    Forest  \n",
       "2    Forest  \n",
       "3  Mountain  \n",
       "4  Mountain  "
      ]
     },
     "execution_count": 7,
     "metadata": {},
     "output_type": "execute_result"
    }
   ],
   "source": [
    "card_base.head()"
   ]
  },
  {
   "cell_type": "markdown",
   "metadata": {},
   "source": [
    "# Removendo sets inúteis\n",
    "\n",
    "corte em 50 cartas"
   ]
  },
  {
   "cell_type": "code",
   "execution_count": 8,
   "metadata": {},
   "outputs": [],
   "source": [
    "sets = card_base.groupby('set').count().iloc[:,0]"
   ]
  },
  {
   "cell_type": "code",
   "execution_count": 9,
   "metadata": {},
   "outputs": [],
   "source": [
    "sets_validos = ['rix', 'grn', 'xln', 'dom', 'm19','prix', 'pgrn', 'pxln', 'pdom', 'pm19']"
   ]
  },
  {
   "cell_type": "code",
   "execution_count": 10,
   "metadata": {},
   "outputs": [],
   "source": [
    "card_base = card_base[card_base['set'].isin(sets_validos)]"
   ]
  },
  {
   "cell_type": "code",
   "execution_count": 11,
   "metadata": {},
   "outputs": [
    {
     "data": {
      "text/plain": [
       "1690"
      ]
     },
     "execution_count": 11,
     "metadata": {},
     "output_type": "execute_result"
    }
   ],
   "source": [
    "len(card_base)"
   ]
  },
  {
   "cell_type": "code",
   "execution_count": 12,
   "metadata": {},
   "outputs": [],
   "source": [
    "#card_base.to_csv('card_base.csv')"
   ]
  },
  {
   "cell_type": "markdown",
   "metadata": {},
   "source": [
    "# Download Image"
   ]
  },
  {
   "cell_type": "code",
   "execution_count": 13,
   "metadata": {},
   "outputs": [
    {
     "name": "stderr",
     "output_type": "stream",
     "text": [
      "100%|██████████████████████████████████████████████████████████████████████████████| 1690/1690 [04:07<00:00,  2.64it/s]\n"
     ]
    }
   ],
   "source": [
    "for i in tqdm(range(len(card_base))):\n",
    "    url = card_base['img_link'].iloc[i]\n",
    "    card_name = card_base['id'].iloc[i]\n",
    "    path = 'card_images_normal/'+card_name+'.jpg'\n",
    "    urllib.request.urlretrieve(url, path)"
   ]
  },
  {
   "cell_type": "markdown",
   "metadata": {},
   "source": [
    "# Creating Train Test Validation folders"
   ]
  },
  {
   "cell_type": "code",
   "execution_count": 14,
   "metadata": {},
   "outputs": [],
   "source": [
    "import os\n",
    "\n",
    "imgs = os.listdir('card_images_normal')\n",
    "info = pd.read_csv('card_images_normal.csv', index_col=0)\n",
    "\n",
    "info.loc[info['set']=='prix','set'] = 'rix'\n",
    "info.loc[info['set']=='pgrn','set'] = 'grn'\n",
    "info.loc[info['set']=='pxln','set'] = 'xln'\n",
    "info.loc[info['set']=='pdom','set'] = 'dom'\n",
    "info.loc[info['set']=='pm19','set'] = 'm19'"
   ]
  },
  {
   "cell_type": "code",
   "execution_count": 15,
   "metadata": {},
   "outputs": [],
   "source": [
    "imgs_aux = []\n",
    "for img in imgs:\n",
    "    imgs_aux.append(img[:-4])"
   ]
  },
  {
   "cell_type": "code",
   "execution_count": 16,
   "metadata": {},
   "outputs": [],
   "source": [
    "info = info[info['id'].isin(imgs_aux)]"
   ]
  },
  {
   "cell_type": "code",
   "execution_count": 17,
   "metadata": {},
   "outputs": [],
   "source": [
    "from sklearn.model_selection import train_test_split\n",
    "\n",
    "df_train, df_split = train_test_split(info, test_size=0.3, stratify = info['set'], random_state=42)\n",
    "\n",
    "df_test, df_validation = train_test_split(df_split, test_size=0.3, stratify = df_split['set'], random_state=42)"
   ]
  },
  {
   "cell_type": "code",
   "execution_count": 18,
   "metadata": {},
   "outputs": [
    {
     "name": "stdout",
     "output_type": "stream",
     "text": [
      "Train: 1183\n",
      "Test: 354\n",
      "Validation: 153\n"
     ]
    }
   ],
   "source": [
    "print('Train: {}'.format(len(df_train)))\n",
    "print('Test: {}'.format(len(df_test)))\n",
    "print('Validation: {}'.format(len(df_validation)))"
   ]
  },
  {
   "cell_type": "code",
   "execution_count": 19,
   "metadata": {},
   "outputs": [],
   "source": [
    "from shutil import copyfile\n",
    "\n",
    "forders = ['train', 'test', 'validation']\n",
    "origin = 'card_images_normal/'\n",
    "destination = 'card_ml/'\n",
    "for i,df in enumerate([df_train, df_test, df_validation]):\n",
    "    for img,s in zip(df['id'],df['set']):\n",
    "        copyfile(origin+img+\".jpg\", destination+forders[i]+'/'+s+'/'+img+\".jpg\")"
   ]
  },
  {
   "cell_type": "code",
   "execution_count": null,
   "metadata": {},
   "outputs": [],
   "source": []
  }
 ],
 "metadata": {
  "kernelspec": {
   "display_name": "Python 3",
   "language": "python",
   "name": "python3"
  },
  "language_info": {
   "codemirror_mode": {
    "name": "ipython",
    "version": 3
   },
   "file_extension": ".py",
   "mimetype": "text/x-python",
   "name": "python",
   "nbconvert_exporter": "python",
   "pygments_lexer": "ipython3",
   "version": "3.6.6"
  }
 },
 "nbformat": 4,
 "nbformat_minor": 2
}
